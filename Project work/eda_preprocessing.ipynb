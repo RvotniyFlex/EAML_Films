{
 "cells": [
  {
   "cell_type": "code",
   "execution_count": 1,
   "id": "42f719af",
   "metadata": {},
   "outputs": [],
   "source": [
    "import numpy as np\n",
    "import pandas as pd\n",
    "import matplotlib.pyplot as plt\n",
    "from tqdm import tqdm\n",
    "import statsmodels.api as sm\n",
    "from sklearn.preprocessing import StandardScaler"
   ]
  },
  {
   "cell_type": "code",
   "execution_count": 2,
   "id": "da6c3ce7",
   "metadata": {},
   "outputs": [
    {
     "data": {
      "text/html": [
       "<div>\n",
       "<style scoped>\n",
       "    .dataframe tbody tr th:only-of-type {\n",
       "        vertical-align: middle;\n",
       "    }\n",
       "\n",
       "    .dataframe tbody tr th {\n",
       "        vertical-align: top;\n",
       "    }\n",
       "\n",
       "    .dataframe thead th {\n",
       "        text-align: right;\n",
       "    }\n",
       "</style>\n",
       "<table border=\"1\" class=\"dataframe\">\n",
       "  <thead>\n",
       "    <tr style=\"text-align: right;\">\n",
       "      <th></th>\n",
       "      <th>id</th>\n",
       "      <th>title</th>\n",
       "      <th>vote_average</th>\n",
       "      <th>vote_count</th>\n",
       "      <th>status</th>\n",
       "      <th>release_date</th>\n",
       "      <th>revenue</th>\n",
       "      <th>runtime</th>\n",
       "      <th>adult</th>\n",
       "      <th>backdrop_path</th>\n",
       "      <th>...</th>\n",
       "      <th>original_language</th>\n",
       "      <th>original_title</th>\n",
       "      <th>overview</th>\n",
       "      <th>popularity</th>\n",
       "      <th>poster_path</th>\n",
       "      <th>tagline</th>\n",
       "      <th>genres</th>\n",
       "      <th>production_companies</th>\n",
       "      <th>production_countries</th>\n",
       "      <th>spoken_languages</th>\n",
       "    </tr>\n",
       "  </thead>\n",
       "  <tbody>\n",
       "    <tr>\n",
       "      <th>0</th>\n",
       "      <td>27205</td>\n",
       "      <td>Inception</td>\n",
       "      <td>8.364</td>\n",
       "      <td>34495</td>\n",
       "      <td>Released</td>\n",
       "      <td>2010-07-15</td>\n",
       "      <td>825532764</td>\n",
       "      <td>148</td>\n",
       "      <td>False</td>\n",
       "      <td>/8ZTVqvKDQ8emSGUEMjsS4yHAwrp.jpg</td>\n",
       "      <td>...</td>\n",
       "      <td>en</td>\n",
       "      <td>Inception</td>\n",
       "      <td>Cobb, a skilled thief who commits corporate es...</td>\n",
       "      <td>83.952</td>\n",
       "      <td>/oYuLEt3zVCKq57qu2F8dT7NIa6f.jpg</td>\n",
       "      <td>Your mind is the scene of the crime.</td>\n",
       "      <td>Action, Science Fiction, Adventure</td>\n",
       "      <td>Legendary Pictures, Syncopy, Warner Bros. Pict...</td>\n",
       "      <td>United Kingdom, United States of America</td>\n",
       "      <td>English, French, Japanese, Swahili</td>\n",
       "    </tr>\n",
       "    <tr>\n",
       "      <th>1</th>\n",
       "      <td>157336</td>\n",
       "      <td>Interstellar</td>\n",
       "      <td>8.417</td>\n",
       "      <td>32571</td>\n",
       "      <td>Released</td>\n",
       "      <td>2014-11-05</td>\n",
       "      <td>701729206</td>\n",
       "      <td>169</td>\n",
       "      <td>False</td>\n",
       "      <td>/pbrkL804c8yAv3zBZR4QPEafpAR.jpg</td>\n",
       "      <td>...</td>\n",
       "      <td>en</td>\n",
       "      <td>Interstellar</td>\n",
       "      <td>The adventures of a group of explorers who mak...</td>\n",
       "      <td>140.241</td>\n",
       "      <td>/gEU2QniE6E77NI6lCU6MxlNBvIx.jpg</td>\n",
       "      <td>Mankind was born on Earth. It was never meant ...</td>\n",
       "      <td>Adventure, Drama, Science Fiction</td>\n",
       "      <td>Legendary Pictures, Syncopy, Lynda Obst Produc...</td>\n",
       "      <td>United Kingdom, United States of America</td>\n",
       "      <td>English</td>\n",
       "    </tr>\n",
       "    <tr>\n",
       "      <th>2</th>\n",
       "      <td>155</td>\n",
       "      <td>The Dark Knight</td>\n",
       "      <td>8.512</td>\n",
       "      <td>30619</td>\n",
       "      <td>Released</td>\n",
       "      <td>2008-07-16</td>\n",
       "      <td>1004558444</td>\n",
       "      <td>152</td>\n",
       "      <td>False</td>\n",
       "      <td>/nMKdUUepR0i5zn0y1T4CsSB5chy.jpg</td>\n",
       "      <td>...</td>\n",
       "      <td>en</td>\n",
       "      <td>The Dark Knight</td>\n",
       "      <td>Batman raises the stakes in his war on crime. ...</td>\n",
       "      <td>130.643</td>\n",
       "      <td>/qJ2tW6WMUDux911r6m7haRef0WH.jpg</td>\n",
       "      <td>Welcome to a world without rules.</td>\n",
       "      <td>Drama, Action, Crime, Thriller</td>\n",
       "      <td>DC Comics, Legendary Pictures, Syncopy, Isobel...</td>\n",
       "      <td>United Kingdom, United States of America</td>\n",
       "      <td>English, Mandarin</td>\n",
       "    </tr>\n",
       "    <tr>\n",
       "      <th>3</th>\n",
       "      <td>19995</td>\n",
       "      <td>Avatar</td>\n",
       "      <td>7.573</td>\n",
       "      <td>29815</td>\n",
       "      <td>Released</td>\n",
       "      <td>2009-12-15</td>\n",
       "      <td>2923706026</td>\n",
       "      <td>162</td>\n",
       "      <td>False</td>\n",
       "      <td>/vL5LR6WdxWPjLPFRLe133jXWsh5.jpg</td>\n",
       "      <td>...</td>\n",
       "      <td>en</td>\n",
       "      <td>Avatar</td>\n",
       "      <td>In the 22nd century, a paraplegic Marine is di...</td>\n",
       "      <td>79.932</td>\n",
       "      <td>/kyeqWdyUXW608qlYkRqosgbbJyK.jpg</td>\n",
       "      <td>Enter the world of Pandora.</td>\n",
       "      <td>Action, Adventure, Fantasy, Science Fiction</td>\n",
       "      <td>Dune Entertainment, Lightstorm Entertainment, ...</td>\n",
       "      <td>United States of America, United Kingdom</td>\n",
       "      <td>English, Spanish</td>\n",
       "    </tr>\n",
       "    <tr>\n",
       "      <th>4</th>\n",
       "      <td>24428</td>\n",
       "      <td>The Avengers</td>\n",
       "      <td>7.710</td>\n",
       "      <td>29166</td>\n",
       "      <td>Released</td>\n",
       "      <td>2012-04-25</td>\n",
       "      <td>1518815515</td>\n",
       "      <td>143</td>\n",
       "      <td>False</td>\n",
       "      <td>/9BBTo63ANSmhC4e6r62OJFuK2GL.jpg</td>\n",
       "      <td>...</td>\n",
       "      <td>en</td>\n",
       "      <td>The Avengers</td>\n",
       "      <td>When an unexpected enemy emerges and threatens...</td>\n",
       "      <td>98.082</td>\n",
       "      <td>/RYMX2wcKCBAr24UyPD7xwmjaTn.jpg</td>\n",
       "      <td>Some assembly required.</td>\n",
       "      <td>Science Fiction, Action, Adventure</td>\n",
       "      <td>Marvel Studios</td>\n",
       "      <td>United States of America</td>\n",
       "      <td>English, Hindi, Russian</td>\n",
       "    </tr>\n",
       "  </tbody>\n",
       "</table>\n",
       "<p>5 rows × 23 columns</p>\n",
       "</div>"
      ],
      "text/plain": [
       "       id            title  vote_average  vote_count    status release_date  \\\n",
       "0   27205        Inception         8.364       34495  Released   2010-07-15   \n",
       "1  157336     Interstellar         8.417       32571  Released   2014-11-05   \n",
       "2     155  The Dark Knight         8.512       30619  Released   2008-07-16   \n",
       "3   19995           Avatar         7.573       29815  Released   2009-12-15   \n",
       "4   24428     The Avengers         7.710       29166  Released   2012-04-25   \n",
       "\n",
       "      revenue  runtime  adult                     backdrop_path  ...  \\\n",
       "0   825532764      148  False  /8ZTVqvKDQ8emSGUEMjsS4yHAwrp.jpg  ...   \n",
       "1   701729206      169  False  /pbrkL804c8yAv3zBZR4QPEafpAR.jpg  ...   \n",
       "2  1004558444      152  False  /nMKdUUepR0i5zn0y1T4CsSB5chy.jpg  ...   \n",
       "3  2923706026      162  False  /vL5LR6WdxWPjLPFRLe133jXWsh5.jpg  ...   \n",
       "4  1518815515      143  False  /9BBTo63ANSmhC4e6r62OJFuK2GL.jpg  ...   \n",
       "\n",
       "   original_language   original_title  \\\n",
       "0                 en        Inception   \n",
       "1                 en     Interstellar   \n",
       "2                 en  The Dark Knight   \n",
       "3                 en           Avatar   \n",
       "4                 en     The Avengers   \n",
       "\n",
       "                                            overview popularity  \\\n",
       "0  Cobb, a skilled thief who commits corporate es...     83.952   \n",
       "1  The adventures of a group of explorers who mak...    140.241   \n",
       "2  Batman raises the stakes in his war on crime. ...    130.643   \n",
       "3  In the 22nd century, a paraplegic Marine is di...     79.932   \n",
       "4  When an unexpected enemy emerges and threatens...     98.082   \n",
       "\n",
       "                        poster_path  \\\n",
       "0  /oYuLEt3zVCKq57qu2F8dT7NIa6f.jpg   \n",
       "1  /gEU2QniE6E77NI6lCU6MxlNBvIx.jpg   \n",
       "2  /qJ2tW6WMUDux911r6m7haRef0WH.jpg   \n",
       "3  /kyeqWdyUXW608qlYkRqosgbbJyK.jpg   \n",
       "4   /RYMX2wcKCBAr24UyPD7xwmjaTn.jpg   \n",
       "\n",
       "                                             tagline  \\\n",
       "0               Your mind is the scene of the crime.   \n",
       "1  Mankind was born on Earth. It was never meant ...   \n",
       "2                  Welcome to a world without rules.   \n",
       "3                        Enter the world of Pandora.   \n",
       "4                            Some assembly required.   \n",
       "\n",
       "                                        genres  \\\n",
       "0           Action, Science Fiction, Adventure   \n",
       "1            Adventure, Drama, Science Fiction   \n",
       "2               Drama, Action, Crime, Thriller   \n",
       "3  Action, Adventure, Fantasy, Science Fiction   \n",
       "4           Science Fiction, Action, Adventure   \n",
       "\n",
       "                                production_companies  \\\n",
       "0  Legendary Pictures, Syncopy, Warner Bros. Pict...   \n",
       "1  Legendary Pictures, Syncopy, Lynda Obst Produc...   \n",
       "2  DC Comics, Legendary Pictures, Syncopy, Isobel...   \n",
       "3  Dune Entertainment, Lightstorm Entertainment, ...   \n",
       "4                                     Marvel Studios   \n",
       "\n",
       "                       production_countries  \\\n",
       "0  United Kingdom, United States of America   \n",
       "1  United Kingdom, United States of America   \n",
       "2  United Kingdom, United States of America   \n",
       "3  United States of America, United Kingdom   \n",
       "4                  United States of America   \n",
       "\n",
       "                     spoken_languages  \n",
       "0  English, French, Japanese, Swahili  \n",
       "1                             English  \n",
       "2                   English, Mandarin  \n",
       "3                    English, Spanish  \n",
       "4             English, Hindi, Russian  \n",
       "\n",
       "[5 rows x 23 columns]"
      ]
     },
     "execution_count": 2,
     "metadata": {},
     "output_type": "execute_result"
    }
   ],
   "source": [
    "df = pd.read_csv('TMDB_movie_dataset_v11.csv')\n",
    "df.head()"
   ]
  },
  {
   "cell_type": "code",
   "execution_count": 3,
   "id": "a56ab8e0",
   "metadata": {},
   "outputs": [
    {
     "data": {
      "text/plain": [
       "(939492, 23)"
      ]
     },
     "execution_count": 3,
     "metadata": {},
     "output_type": "execute_result"
    }
   ],
   "source": [
    "df.shape"
   ]
  },
  {
   "cell_type": "code",
   "execution_count": 4,
   "id": "4c735d2e",
   "metadata": {},
   "outputs": [
    {
     "data": {
      "text/plain": [
       "id                      False\n",
       "title                    True\n",
       "vote_average            False\n",
       "vote_count              False\n",
       "status                  False\n",
       "release_date             True\n",
       "revenue                 False\n",
       "runtime                 False\n",
       "adult                   False\n",
       "backdrop_path            True\n",
       "budget                  False\n",
       "homepage                 True\n",
       "imdb_id                  True\n",
       "original_language       False\n",
       "original_title           True\n",
       "overview                 True\n",
       "popularity              False\n",
       "poster_path              True\n",
       "tagline                  True\n",
       "genres                   True\n",
       "production_companies     True\n",
       "production_countries     True\n",
       "spoken_languages         True\n",
       "dtype: bool"
      ]
     },
     "execution_count": 4,
     "metadata": {},
     "output_type": "execute_result"
    }
   ],
   "source": [
    "df.isna().any()"
   ]
  },
  {
   "cell_type": "markdown",
   "id": "cf8be151",
   "metadata": {},
   "source": [
    "We can right away unnecessary columns, that for example contains links:"
   ]
  },
  {
   "cell_type": "code",
   "execution_count": 5,
   "id": "65744074",
   "metadata": {},
   "outputs": [],
   "source": [
    "df.drop(columns=['backdrop_path', 'homepage', 'imdb_id', 'original_title', 'poster_path', 'tagline'], inplace=True)"
   ]
  },
  {
   "cell_type": "markdown",
   "id": "d4e0ccc6",
   "metadata": {},
   "source": [
    "### id, title"
   ]
  },
  {
   "cell_type": "markdown",
   "id": "c6041bd6",
   "metadata": {},
   "source": [
    "We can make a dictionary id - title and then drop title:"
   ]
  },
  {
   "cell_type": "code",
   "execution_count": 6,
   "id": "0d8e1126",
   "metadata": {},
   "outputs": [],
   "source": [
    "names = {}\n",
    "for i in range(df.shape[0]):\n",
    "    names[df.iloc[i]['id']] = df.iloc[i]['title']"
   ]
  },
  {
   "cell_type": "code",
   "execution_count": 7,
   "id": "082d5f01",
   "metadata": {},
   "outputs": [],
   "source": [
    "df.drop(columns=['title'], inplace=True)"
   ]
  },
  {
   "cell_type": "markdown",
   "id": "2fea7724",
   "metadata": {},
   "source": [
    "### vote_average"
   ]
  },
  {
   "cell_type": "code",
   "execution_count": 8,
   "id": "12348a0d",
   "metadata": {},
   "outputs": [
    {
     "data": {
      "text/plain": [
       "count    939492.000000\n",
       "mean          2.223660\n",
       "std           3.150309\n",
       "min           0.000000\n",
       "25%           0.000000\n",
       "50%           0.000000\n",
       "75%           5.224000\n",
       "max          10.000000\n",
       "Name: vote_average, dtype: float64"
      ]
     },
     "execution_count": 8,
     "metadata": {},
     "output_type": "execute_result"
    }
   ],
   "source": [
    "df.vote_average.describe()"
   ]
  },
  {
   "cell_type": "code",
   "execution_count": 9,
   "id": "3d9ed444",
   "metadata": {},
   "outputs": [
    {
     "data": {
      "text/plain": [
       "594936"
      ]
     },
     "execution_count": 9,
     "metadata": {},
     "output_type": "execute_result"
    }
   ],
   "source": [
    "df[df.vote_average == 0].shape[0]"
   ]
  },
  {
   "cell_type": "markdown",
   "id": "9037043e",
   "metadata": {},
   "source": [
    "600k films out of 940k have no vote_average. Let's theck the distribution od non-zero estims: "
   ]
  },
  {
   "cell_type": "code",
   "execution_count": 10,
   "id": "3b3bb8d2",
   "metadata": {},
   "outputs": [
    {
     "data": {
      "text/plain": [
       "count    344556.000000\n",
       "mean          6.063198\n",
       "std           1.944440\n",
       "min           0.500000\n",
       "25%           5.000000\n",
       "50%           6.000000\n",
       "75%           7.000000\n",
       "max          10.000000\n",
       "Name: vote_average, dtype: float64"
      ]
     },
     "execution_count": 10,
     "metadata": {},
     "output_type": "execute_result"
    }
   ],
   "source": [
    "df[df.vote_average != 0].vote_average.describe()"
   ]
  },
  {
   "cell_type": "code",
   "execution_count": 11,
   "id": "e76f139d",
   "metadata": {},
   "outputs": [
    {
     "data": {
      "image/png": "[encoded data removed]",
      "text/plain": [
       "<Figure size 864x432 with 1 Axes>"
      ]
     },
     "metadata": {
      "needs_background": "light"
     },
     "output_type": "display_data"
    }
   ],
   "source": [
    "fig, ax = plt.subplots(figsize=(12, 6))\n",
    "ax.bar(list(df[df.vote_average != 0].groupby('vote_average')['vote_average'].count().index),\n",
    "      list(df[df.vote_average != 0].groupby('vote_average')['vote_average'].count().values))\n",
    "plt.xlabel('Average rating of the movie', fontsize=14)\n",
    "plt.ylabel('count', fontsize=14)\n",
    "plt.title('vote_average', fontsize=20)\n",
    "ax.grid()\n",
    "plt.show()"
   ]
  },
  {
   "cell_type": "code",
   "execution_count": 12,
   "id": "110544b5",
   "metadata": {},
   "outputs": [],
   "source": [
    "df = df[df.vote_average > 0]"
   ]
  },
  {
   "cell_type": "markdown",
   "id": "6e7699af",
   "metadata": {},
   "source": [
    "There are obvious peaks at whole numbers. It explains why qurtiles are whole too. If we drop all whole numbers we get:"
   ]
  },
  {
   "cell_type": "code",
   "execution_count": 13,
   "id": "948159f5",
   "metadata": {},
   "outputs": [
    {
     "data": {
      "text/plain": [
       "count    179175.000000\n",
       "mean          5.942778\n",
       "std           1.375622\n",
       "min           0.500000\n",
       "25%           5.200000\n",
       "50%           6.087000\n",
       "75%           6.800000\n",
       "max           9.980000\n",
       "Name: vote_average, dtype: float64"
      ]
     },
     "execution_count": 13,
     "metadata": {},
     "output_type": "execute_result"
    }
   ],
   "source": [
    "lst = list(set(df.vote_average.values) - set(range(0, 11)))\n",
    "df[df.vote_average.isin(lst)].vote_average.describe()"
   ]
  },
  {
   "cell_type": "code",
   "execution_count": 14,
   "id": "84044979",
   "metadata": {},
   "outputs": [
    {
     "data": {
      "image/png": "[encoded data removed]",
      "text/plain": [
       "<Figure size 864x432 with 1 Axes>"
      ]
     },
     "metadata": {
      "needs_background": "light"
     },
     "output_type": "display_data"
    }
   ],
   "source": [
    "fig, ax = plt.subplots(figsize=(12, 6))\n",
    "ax.bar(list(df[df.vote_average.isin(lst)].groupby('vote_average')['vote_average'].count().index),\n",
    "      list(df[df.vote_average.isin(lst)].groupby('vote_average')['vote_average'].count().values))\n",
    "plt.xlabel('Average rating of the movie', fontsize=14)\n",
    "plt.ylabel('count', fontsize=14)\n",
    "plt.title('vote_average', fontsize=20)\n",
    "ax.grid()\n",
    "plt.show()"
   ]
  },
  {
   "cell_type": "markdown",
   "id": "b7fad7db",
   "metadata": {},
   "source": [
    "Now we can see peaks in a points like .2 and .8. Taking into account all the above we mat try multilabel classification instead of regression by combibning all the dots between n and n.(9) into one label n."
   ]
  },
  {
   "cell_type": "code",
   "execution_count": 15,
   "id": "e4ac7f23",
   "metadata": {},
   "outputs": [],
   "source": [
    "df['vote_label'] = df.vote_average.apply(int)"
   ]
  },
  {
   "cell_type": "markdown",
   "id": "7d62de53",
   "metadata": {},
   "source": [
    "### vote_count"
   ]
  },
  {
   "cell_type": "code",
   "execution_count": 16,
   "id": "1f3638dd",
   "metadata": {},
   "outputs": [
    {
     "data": {
      "text/plain": [
       "count    344059.000000\n",
       "mean         62.321294\n",
       "std         576.577281\n",
       "min           1.000000\n",
       "25%           1.000000\n",
       "50%           3.000000\n",
       "75%           8.000000\n",
       "max       34495.000000\n",
       "Name: vote_count, dtype: float64"
      ]
     },
     "execution_count": 16,
     "metadata": {},
     "output_type": "execute_result"
    }
   ],
   "source": [
    "df[df.vote_count != 0].vote_count.describe()"
   ]
  },
  {
   "cell_type": "code",
   "execution_count": 17,
   "id": "c996e776",
   "metadata": {},
   "outputs": [],
   "source": [
    "df = df[df.vote_count > 0]"
   ]
  },
  {
   "cell_type": "markdown",
   "id": "b054de30",
   "metadata": {},
   "source": [
    "### status"
   ]
  },
  {
   "cell_type": "code",
   "execution_count": 18,
   "id": "4d46f340",
   "metadata": {},
   "outputs": [
    {
     "data": {
      "image/png": "[encoded data removed]",
      "text/plain": [
       "<Figure size 864x432 with 1 Axes>"
      ]
     },
     "metadata": {
      "needs_background": "light"
     },
     "output_type": "display_data"
    }
   ],
   "source": [
    "fig, ax = plt.subplots(figsize=(12, 6))\n",
    "ax.bar(list(df.groupby('status')['status'].count().index),\n",
    "      list(df.groupby('status')['status'].count().values))\n",
    "plt.xlabel('Film status', fontsize=14)\n",
    "plt.ylabel('count', fontsize=14)\n",
    "plt.title('status', fontsize=20)\n",
    "ax.grid()\n",
    "plt.show()"
   ]
  },
  {
   "cell_type": "markdown",
   "id": "6f85ed22",
   "metadata": {},
   "source": [
    "The majority of films are in \"Released\" status so let's make a binary feature: 1 if status = \"Released\" and 0 otherwise"
   ]
  },
  {
   "cell_type": "code",
   "execution_count": 19,
   "id": "655ec835",
   "metadata": {},
   "outputs": [],
   "source": [
    "df['status'] = df.status.apply(lambda x: 1 if x == 'Released' else 0)"
   ]
  },
  {
   "cell_type": "markdown",
   "id": "3c013ee4",
   "metadata": {},
   "source": [
    "### release_date"
   ]
  },
  {
   "cell_type": "markdown",
   "id": "c60df15d",
   "metadata": {},
   "source": [
    "Drop all nans:"
   ]
  },
  {
   "cell_type": "code",
   "execution_count": 20,
   "id": "cd6a123c",
   "metadata": {},
   "outputs": [],
   "source": [
    "df.dropna(subset=['release_date'], inplace=True)"
   ]
  },
  {
   "cell_type": "markdown",
   "id": "9793855b",
   "metadata": {},
   "source": [
    "We can make some features from release date, e.g. year, month, quarter, etc:"
   ]
  },
  {
   "cell_type": "code",
   "execution_count": 21,
   "id": "1ce4a64b",
   "metadata": {},
   "outputs": [],
   "source": [
    "df['year'] = df.release_date.apply(lambda x: int(x[:4]))"
   ]
  },
  {
   "cell_type": "code",
   "execution_count": 22,
   "id": "93336127",
   "metadata": {},
   "outputs": [],
   "source": [
    "df['month'] = df.release_date.apply(lambda x: int(x[5:7]))"
   ]
  },
  {
   "cell_type": "code",
   "execution_count": 23,
   "id": "fd780c12",
   "metadata": {},
   "outputs": [],
   "source": [
    "df['day'] = df.release_date.apply(lambda x: int(x[8:10]))"
   ]
  },
  {
   "cell_type": "code",
   "execution_count": 24,
   "id": "fc608495",
   "metadata": {},
   "outputs": [],
   "source": [
    "df['quarter'] = df.month.apply(lambda x: (x // 3) + 1)"
   ]
  },
  {
   "cell_type": "code",
   "execution_count": 25,
   "id": "2853c7d0",
   "metadata": {},
   "outputs": [],
   "source": [
    "df.drop(columns=['release_date'], inplace=True)"
   ]
  },
  {
   "cell_type": "markdown",
   "id": "ca77279c",
   "metadata": {},
   "source": [
    "### revenue"
   ]
  },
  {
   "cell_type": "code",
   "execution_count": 26,
   "id": "d1fac062",
   "metadata": {},
   "outputs": [
    {
     "data": {
      "text/plain": [
       "(322008, 338266)"
      ]
     },
     "execution_count": 26,
     "metadata": {},
     "output_type": "execute_result"
    }
   ],
   "source": [
    "df[df.revenue == 0].shape[0], df.shape[0]"
   ]
  },
  {
   "cell_type": "markdown",
   "id": "9f0cc07b",
   "metadata": {},
   "source": [
    "For most films the are no revenue data, so we can make a flag: 1 if revenue $\\neq$ 0, 0 else"
   ]
  },
  {
   "cell_type": "code",
   "execution_count": 27,
   "id": "2674fbbe",
   "metadata": {},
   "outputs": [],
   "source": [
    "df['revenue'] = df.revenue.apply(lambda x: 1 if x != 0 else 0)"
   ]
  },
  {
   "cell_type": "markdown",
   "id": "cf5dce7e",
   "metadata": {},
   "source": [
    "### runtime"
   ]
  },
  {
   "cell_type": "code",
   "execution_count": 28,
   "id": "c64228df",
   "metadata": {},
   "outputs": [
    {
     "data": {
      "text/plain": [
       "39999"
      ]
     },
     "execution_count": 28,
     "metadata": {},
     "output_type": "execute_result"
    }
   ],
   "source": [
    "df[df.runtime == 0].shape[0]"
   ]
  },
  {
   "cell_type": "markdown",
   "id": "666d7966",
   "metadata": {},
   "source": [
    "We have 40k of missing values in runtime, so let's fill it with median:"
   ]
  },
  {
   "cell_type": "code",
   "execution_count": 29,
   "id": "e9cf8527",
   "metadata": {},
   "outputs": [],
   "source": [
    "df.loc[df.runtime == 0, 'runtime'] = np.median(df[df.runtime != 0].runtime.values)"
   ]
  },
  {
   "cell_type": "markdown",
   "id": "d0db662d",
   "metadata": {},
   "source": [
    "### adult"
   ]
  },
  {
   "cell_type": "code",
   "execution_count": 30,
   "id": "932976c0",
   "metadata": {},
   "outputs": [
    {
     "data": {
      "text/plain": [
       "0.05591753235619305"
      ]
     },
     "execution_count": 30,
     "metadata": {},
     "output_type": "execute_result"
    }
   ],
   "source": [
    "df[df.adult == True].shape[0] / df.shape[0]"
   ]
  },
  {
   "cell_type": "markdown",
   "id": "c4688142",
   "metadata": {},
   "source": [
    "Only about 5% of films are 18+, nethertheless we may still kepp it as a feature"
   ]
  },
  {
   "cell_type": "code",
   "execution_count": 31,
   "id": "c7461ae4",
   "metadata": {},
   "outputs": [],
   "source": [
    "df['adult'] = df.adult.apply(lambda x: 1 if x else 0)"
   ]
  },
  {
   "cell_type": "markdown",
   "id": "841beee0",
   "metadata": {},
   "source": [
    "### budget"
   ]
  },
  {
   "cell_type": "code",
   "execution_count": 32,
   "id": "b843200d",
   "metadata": {},
   "outputs": [
    {
     "data": {
      "text/plain": [
       "312855"
      ]
     },
     "execution_count": 32,
     "metadata": {},
     "output_type": "execute_result"
    }
   ],
   "source": [
    "df[df.budget == 0].shape[0]"
   ]
  },
  {
   "cell_type": "markdown",
   "id": "acc5e0be",
   "metadata": {},
   "source": [
    "A lot of missing values, so we will do the exact same thing as with revenue:"
   ]
  },
  {
   "cell_type": "code",
   "execution_count": 33,
   "id": "0bbfa680",
   "metadata": {},
   "outputs": [],
   "source": [
    "df['budget'] = df.budget.apply(lambda x: 1 if x != 0 else 0)"
   ]
  },
  {
   "cell_type": "markdown",
   "id": "0cc3e64e",
   "metadata": {},
   "source": [
    "### original_language"
   ]
  },
  {
   "cell_type": "code",
   "execution_count": 34,
   "id": "77ecee55",
   "metadata": {},
   "outputs": [
    {
     "data": {
      "text/plain": [
       "original_language\n",
       "en    174685\n",
       "fr     23679\n",
       "es     23605\n",
       "de     15023\n",
       "ja     13510\n",
       "it     10258\n",
       "ru      7150\n",
       "pt      6932\n",
       "zh      5813\n",
       "ko      4460\n",
       "Name: original_language, dtype: int64"
      ]
     },
     "execution_count": 34,
     "metadata": {},
     "output_type": "execute_result"
    }
   ],
   "source": [
    "df.groupby('original_language')['original_language'].count().sort_values(ascending=False).head(10)"
   ]
  },
  {
   "cell_type": "markdown",
   "id": "8bb391ca",
   "metadata": {},
   "source": [
    "Let's highlight the 5 most popular languages and assign a label ot (others) to everyone else."
   ]
  },
  {
   "cell_type": "code",
   "execution_count": 35,
   "id": "09797a87",
   "metadata": {},
   "outputs": [],
   "source": [
    "df['original_language'] = df.original_language.apply(lambda x: x if x in ['en', 'fr', 'es', 'de', 'ja', 'it'] else 'ot')"
   ]
  },
  {
   "cell_type": "code",
   "execution_count": 36,
   "id": "a1dc7e3f",
   "metadata": {},
   "outputs": [
    {
     "data": {
      "image/png": "[encoded data removed]",
      "text/plain": [
       "<Figure size 864x432 with 1 Axes>"
      ]
     },
     "metadata": {
      "needs_background": "light"
     },
     "output_type": "display_data"
    }
   ],
   "source": [
    "fig, ax = plt.subplots(figsize=(12, 6))\n",
    "ax.bar(list(df.groupby('original_language')['original_language'].count().index),\n",
    "      list(df.groupby('original_language')['original_language'].count().values))\n",
    "plt.xlabel('Film status', fontsize=14)\n",
    "plt.ylabel('count', fontsize=14)\n",
    "plt.title('status', fontsize=20)\n",
    "ax.grid()\n",
    "plt.show()"
   ]
  },
  {
   "cell_type": "markdown",
   "id": "6babee40",
   "metadata": {},
   "source": [
    "Now and later we will encode all categorical features:"
   ]
  },
  {
   "cell_type": "code",
   "execution_count": 37,
   "id": "5ecb71ff",
   "metadata": {},
   "outputs": [],
   "source": [
    "one_hot = pd.get_dummies(df['original_language'])\n",
    "df.drop(columns=['original_language'], inplace=True)\n",
    "df = df.join(one_hot)"
   ]
  },
  {
   "cell_type": "markdown",
   "id": "c56e0af7",
   "metadata": {},
   "source": [
    "### overview"
   ]
  },
  {
   "cell_type": "markdown",
   "id": "01c7456a",
   "metadata": {},
   "source": [
    "We will make tokens from text description of a film and make features from it, but in another part of the project"
   ]
  },
  {
   "cell_type": "markdown",
   "id": "08188f35",
   "metadata": {},
   "source": [
    "### popularity"
   ]
  },
  {
   "cell_type": "code",
   "execution_count": 38,
   "id": "18c1b210",
   "metadata": {},
   "outputs": [
    {
     "data": {
      "text/plain": [
       "754"
      ]
     },
     "execution_count": 38,
     "metadata": {},
     "output_type": "execute_result"
    }
   ],
   "source": [
    "df[df.popularity == 0].shape[0]"
   ]
  },
  {
   "cell_type": "markdown",
   "id": "b0ff73c8",
   "metadata": {},
   "source": [
    "Let's drop missing values:"
   ]
  },
  {
   "cell_type": "code",
   "execution_count": 39,
   "id": "b1ffd005",
   "metadata": {},
   "outputs": [],
   "source": [
    "df = df[df.popularity != 0]"
   ]
  },
  {
   "cell_type": "markdown",
   "id": "c23bc0b8",
   "metadata": {},
   "source": [
    "### genres"
   ]
  },
  {
   "cell_type": "code",
   "execution_count": 40,
   "id": "e7a87d39",
   "metadata": {},
   "outputs": [
    {
     "data": {
      "text/plain": [
       "53427"
      ]
     },
     "execution_count": 40,
     "metadata": {},
     "output_type": "execute_result"
    }
   ],
   "source": [
    "df[df.genres.isna()].shape[0]"
   ]
  },
  {
   "cell_type": "markdown",
   "id": "8862463d",
   "metadata": {},
   "source": [
    "Firstly, let's fill the missing values with 'no genres' label"
   ]
  },
  {
   "cell_type": "code",
   "execution_count": 41,
   "id": "5d96e397",
   "metadata": {},
   "outputs": [],
   "source": [
    "df.loc[df.genres.isna(), 'genres'] = 'no genre'"
   ]
  },
  {
   "cell_type": "markdown",
   "id": "37b5c7ea",
   "metadata": {},
   "source": [
    "Secondly, we can check the frequency of each genre and combine unpopular genres together: "
   ]
  },
  {
   "cell_type": "code",
   "execution_count": 42,
   "id": "2f6658df",
   "metadata": {},
   "outputs": [],
   "source": [
    "df['genres'] = df.genres.apply(lambda x: x.split(','))"
   ]
  },
  {
   "cell_type": "code",
   "execution_count": 43,
   "id": "d92afc98",
   "metadata": {},
   "outputs": [],
   "source": [
    "def foo(lst):\n",
    "    new_lst = []\n",
    "    for item in lst:\n",
    "        x = item.strip().lower()\n",
    "        if x not in new_lst:\n",
    "            new_lst.append(x)\n",
    "            \n",
    "    return new_lst\n",
    "\n",
    "df['genres'] = df.genres.apply(foo)"
   ]
  },
  {
   "cell_type": "code",
   "execution_count": 44,
   "id": "da52ef3c",
   "metadata": {},
   "outputs": [
    {
     "data": {
      "text/plain": [
       "['action',\n",
       " 'science fiction',\n",
       " 'adventure',\n",
       " 'drama',\n",
       " 'crime',\n",
       " 'thriller',\n",
       " 'fantasy',\n",
       " 'comedy',\n",
       " 'romance',\n",
       " 'western',\n",
       " 'mystery',\n",
       " 'war',\n",
       " 'animation',\n",
       " 'family',\n",
       " 'horror',\n",
       " 'music',\n",
       " 'history',\n",
       " 'tv movie',\n",
       " 'documentary',\n",
       " 'no genre']"
      ]
     },
     "execution_count": 44,
     "metadata": {},
     "output_type": "execute_result"
    }
   ],
   "source": [
    "genres = []\n",
    "for item in list(df.genres):\n",
    "    for it in item:\n",
    "        if it not in genres:\n",
    "            genres.append(it)\n",
    "            \n",
    "genres"
   ]
  },
  {
   "cell_type": "code",
   "execution_count": 45,
   "id": "05877cc9",
   "metadata": {},
   "outputs": [
    {
     "name": "stdout",
     "output_type": "stream",
     "text": [
      "action: 26350\n",
      "science fiction: 11737\n",
      "adventure: 14237\n",
      "drama: 107337\n",
      "crime: 19737\n",
      "thriller: 28144\n",
      "fantasy: 11598\n",
      "comedy: 74127\n",
      "romance: 30522\n",
      "western: 4445\n",
      "mystery: 10933\n",
      "war: 5949\n",
      "animation: 20926\n",
      "family: 15254\n",
      "horror: 24406\n",
      "music: 18573\n",
      "history: 8343\n",
      "tv movie: 14055\n",
      "documentary: 47238\n",
      "no genre: 53427\n"
     ]
    }
   ],
   "source": [
    "for genre in genres:\n",
    "    cnt = 0\n",
    "    for item in df.genres:\n",
    "        if genre in item:\n",
    "            cnt += 1\n",
    "    print(f'{genre}: {cnt}')"
   ]
  },
  {
   "cell_type": "markdown",
   "id": "618ea31f",
   "metadata": {},
   "source": [
    "Each genre is popular enough so no need to combine. Let's just do encoding:"
   ]
  },
  {
   "cell_type": "code",
   "execution_count": 46,
   "id": "10bb86df",
   "metadata": {},
   "outputs": [],
   "source": [
    "for genre in genres:\n",
    "    df[genre] = df.genres.apply(lambda x: 1 if genre in x else 0)\n",
    "    \n",
    "df.drop(columns=['genres'], inplace=True)"
   ]
  },
  {
   "cell_type": "markdown",
   "id": "a84feac0",
   "metadata": {},
   "source": [
    "### production_companies"
   ]
  },
  {
   "cell_type": "markdown",
   "id": "bc584137",
   "metadata": {},
   "source": [
    "Strategy is the same as above"
   ]
  },
  {
   "cell_type": "code",
   "execution_count": 47,
   "id": "0cb044fa",
   "metadata": {},
   "outputs": [
    {
     "data": {
      "text/plain": [
       "114952"
      ]
     },
     "execution_count": 47,
     "metadata": {},
     "output_type": "execute_result"
    }
   ],
   "source": [
    "df[df.production_companies.isna()].shape[0]"
   ]
  },
  {
   "cell_type": "code",
   "execution_count": 48,
   "id": "3a35156f",
   "metadata": {},
   "outputs": [],
   "source": [
    "df.loc[df.production_companies.isna(), 'production_companies'] = 'no pc'"
   ]
  },
  {
   "cell_type": "code",
   "execution_count": 49,
   "id": "9f1eaeee",
   "metadata": {},
   "outputs": [],
   "source": [
    "df['production_companies'] = df.production_companies.apply(lambda x: x.split(','))"
   ]
  },
  {
   "cell_type": "code",
   "execution_count": 50,
   "id": "a057f554",
   "metadata": {},
   "outputs": [],
   "source": [
    "df['production_companies'] = df.production_companies.apply(foo)"
   ]
  },
  {
   "cell_type": "code",
   "execution_count": 51,
   "id": "07e30c55",
   "metadata": {},
   "outputs": [
    {
     "data": {
      "text/plain": [
       "['legendary pictures',\n",
       " 'syncopy',\n",
       " 'warner bros. pictures',\n",
       " 'lynda obst productions',\n",
       " 'dc comics',\n",
       " 'isobel griffiths',\n",
       " 'dune entertainment',\n",
       " 'lightstorm entertainment',\n",
       " '20th century fox',\n",
       " 'ingenious media']"
      ]
     },
     "execution_count": 51,
     "metadata": {},
     "output_type": "execute_result"
    }
   ],
   "source": [
    "pcs = []\n",
    "for item in list(df.production_companies):\n",
    "    for it in item:\n",
    "        if it not in pcs:\n",
    "            pcs.append(it)\n",
    "            \n",
    "pcs[:10]"
   ]
  },
  {
   "cell_type": "code",
   "execution_count": 52,
   "id": "496e9031",
   "metadata": {},
   "outputs": [
    {
     "data": {
      "text/plain": [
       "94130"
      ]
     },
     "execution_count": 52,
     "metadata": {},
     "output_type": "execute_result"
    }
   ],
   "source": [
    "len(pcs) # here we need grouping for sure"
   ]
  },
  {
   "cell_type": "code",
   "execution_count": 53,
   "id": "3abac915",
   "metadata": {},
   "outputs": [],
   "source": [
    "def bar(lst):\n",
    "    new_lst = []\n",
    "    for item in lst:\n",
    "        if item in pcs:\n",
    "            new_lst.append(item)\n",
    "        else:\n",
    "            new_lst.append('other_pcs')\n",
    "    \n",
    "    return list(set(new_lst))"
   ]
  },
  {
   "cell_type": "code",
   "execution_count": 54,
   "id": "6b281837",
   "metadata": {},
   "outputs": [],
   "source": [
    "pcs = ['no pc', 'warner bros. pictures',\n",
    "'metro-goldwyn-mayer',\n",
    "'paramount',\n",
    "'columbia pictures',\n",
    "'universal pictures',\n",
    "'arte',\n",
    "'20th century fox',\n",
    "'bbc']\n",
    "\n",
    "df['production_companies'] = df.production_companies.apply(bar)\n",
    "\n",
    "for pc in pcs:\n",
    "    df[pc] = df.production_companies.apply(lambda x: 1 if pc in x else 0)\n",
    "    \n",
    "df.drop(columns=['production_companies'], inplace=True)"
   ]
  },
  {
   "cell_type": "markdown",
   "id": "96e23c55",
   "metadata": {},
   "source": [
    "### production_countries"
   ]
  },
  {
   "cell_type": "code",
   "execution_count": 55,
   "id": "df9e60a6",
   "metadata": {},
   "outputs": [
    {
     "data": {
      "text/plain": [
       "70351"
      ]
     },
     "execution_count": 55,
     "metadata": {},
     "output_type": "execute_result"
    }
   ],
   "source": [
    "df[df.production_countries.isna()].shape[0]"
   ]
  },
  {
   "cell_type": "code",
   "execution_count": 56,
   "id": "9d5db436",
   "metadata": {},
   "outputs": [],
   "source": [
    "df.loc[df.production_countries.isna(), 'production_countries'] = 'no country'"
   ]
  },
  {
   "cell_type": "code",
   "execution_count": 57,
   "id": "1cd97360",
   "metadata": {},
   "outputs": [],
   "source": [
    "df['production_countries'] = df.production_countries.apply(lambda x: x.split(','))\n",
    "df['production_countries'] = df.production_countries.apply(foo)"
   ]
  },
  {
   "cell_type": "code",
   "execution_count": 58,
   "id": "3109699b",
   "metadata": {},
   "outputs": [
    {
     "data": {
      "text/plain": [
       "['united kingdom',\n",
       " 'united states of america',\n",
       " 'canada',\n",
       " 'new zealand',\n",
       " 'australia',\n",
       " 'south africa',\n",
       " 'france',\n",
       " 'germany',\n",
       " 'hong kong',\n",
       " 'taiwan']"
      ]
     },
     "execution_count": 58,
     "metadata": {},
     "output_type": "execute_result"
    }
   ],
   "source": [
    "countries = []\n",
    "for item in list(df.production_countries):\n",
    "    for it in item:\n",
    "        if it not in countries:\n",
    "            countries.append(it)\n",
    "            \n",
    "countries[:10]"
   ]
  },
  {
   "cell_type": "code",
   "execution_count": 59,
   "id": "605acb8b",
   "metadata": {},
   "outputs": [],
   "source": [
    "def bar(lst):\n",
    "    new_lst = []\n",
    "    for item in lst:\n",
    "        if item in countries:\n",
    "            new_lst.append(item)\n",
    "        else:\n",
    "            new_lst.append('other_countries')\n",
    "    \n",
    "    return list(set(new_lst))"
   ]
  },
  {
   "cell_type": "code",
   "execution_count": 60,
   "id": "7feb2f14",
   "metadata": {},
   "outputs": [],
   "source": [
    "countries = ['united states of america',\n",
    "'no country',\n",
    "'france',\n",
    "'united kingdom',\n",
    "'germany',\n",
    "'japan',\n",
    "'italy']\n",
    "\n",
    "df['production_countries'] = df.production_countries.apply(bar)\n",
    "\n",
    "for country in countries:\n",
    "    df[country] = df.production_countries.apply(lambda x: 1 if country in x else 0)\n",
    "    \n",
    "df.drop(columns=['production_countries'], inplace=True)"
   ]
  },
  {
   "cell_type": "markdown",
   "id": "f3661797",
   "metadata": {},
   "source": [
    "### spoken_languages"
   ]
  },
  {
   "cell_type": "code",
   "execution_count": 61,
   "id": "f4135b4c",
   "metadata": {},
   "outputs": [
    {
     "data": {
      "text/plain": [
       "59561"
      ]
     },
     "execution_count": 61,
     "metadata": {},
     "output_type": "execute_result"
    }
   ],
   "source": [
    "df[df.spoken_languages.isna()].shape[0]"
   ]
  },
  {
   "cell_type": "code",
   "execution_count": 62,
   "id": "53646d14",
   "metadata": {},
   "outputs": [],
   "source": [
    "df.loc[df.spoken_languages.isna(), 'spoken_languages'] = 'no language'"
   ]
  },
  {
   "cell_type": "code",
   "execution_count": 63,
   "id": "1214236a",
   "metadata": {},
   "outputs": [],
   "source": [
    "df['spoken_languages'] = df.spoken_languages.apply(lambda x: x.split(','))\n",
    "df['spoken_languages'] = df.spoken_languages.apply(foo)"
   ]
  },
  {
   "cell_type": "code",
   "execution_count": 64,
   "id": "41efbce7",
   "metadata": {},
   "outputs": [
    {
     "data": {
      "text/plain": [
       "['english',\n",
       " 'french',\n",
       " 'japanese',\n",
       " 'swahili',\n",
       " 'mandarin',\n",
       " 'spanish',\n",
       " 'hindi',\n",
       " 'russian',\n",
       " 'xhosa',\n",
       " 'persian']"
      ]
     },
     "execution_count": 64,
     "metadata": {},
     "output_type": "execute_result"
    }
   ],
   "source": [
    "languages = []\n",
    "for item in list(df.spoken_languages):\n",
    "    for it in item:\n",
    "        if it not in languages:\n",
    "            languages.append(it)\n",
    "            \n",
    "languages[:10]"
   ]
  },
  {
   "cell_type": "code",
   "execution_count": 65,
   "id": "034d6b1d",
   "metadata": {},
   "outputs": [],
   "source": [
    "def bar(lst):\n",
    "    new_lst = []\n",
    "    for item in lst:\n",
    "        if item in languages:\n",
    "            new_lst.append(item)\n",
    "        else:\n",
    "            new_lst.append('other_languages')\n",
    "    \n",
    "    return list(set(new_lst))"
   ]
  },
  {
   "cell_type": "code",
   "execution_count": 66,
   "id": "7f5d34e3",
   "metadata": {},
   "outputs": [],
   "source": [
    "languages = ['english',\n",
    "'no language',\n",
    "'french',\n",
    "'spanish',\n",
    "'german',\n",
    "'japanese',\n",
    "'italian']\n",
    "\n",
    "df['spoken_languages'] = df.spoken_languages.apply(bar)\n",
    "\n",
    "for language in languages:\n",
    "    df[language] = df.spoken_languages.apply(lambda x: 1 if language in x else 0)\n",
    "    \n",
    "df.drop(columns=['spoken_languages'], inplace=True)"
   ]
  },
  {
   "cell_type": "markdown",
   "id": "ca8149c1",
   "metadata": {},
   "source": [
    "### outliers detecting"
   ]
  },
  {
   "cell_type": "markdown",
   "id": "dab28ab5",
   "metadata": {},
   "source": [
    "Let's fit Isolation Forest on our data and drop outliers using this method."
   ]
  },
  {
   "cell_type": "code",
   "execution_count": 69,
   "id": "1c7a84c8",
   "metadata": {},
   "outputs": [],
   "source": [
    "X = df.drop(columns=['id', 'vote_average', 'overview']).values"
   ]
  },
  {
   "cell_type": "code",
   "execution_count": 71,
   "id": "e8b91976",
   "metadata": {},
   "outputs": [],
   "source": [
    "from sklearn.ensemble import IsolationForest\n",
    "\n",
    "clf = IsolationForest(random_state=0).fit(X)"
   ]
  },
  {
   "cell_type": "code",
   "execution_count": 73,
   "id": "9e9946b1",
   "metadata": {},
   "outputs": [],
   "source": [
    "pred = clf.predict(X)"
   ]
  },
  {
   "cell_type": "code",
   "execution_count": 74,
   "id": "61b595d7",
   "metadata": {},
   "outputs": [
    {
     "data": {
      "text/plain": [
       "(array([-1,  1]), array([  7899, 329613], dtype=int64))"
      ]
     },
     "execution_count": 74,
     "metadata": {},
     "output_type": "execute_result"
    }
   ],
   "source": [
    "np.unique(pred, return_counts=True)"
   ]
  },
  {
   "cell_type": "code",
   "execution_count": 79,
   "id": "c90a2e56",
   "metadata": {},
   "outputs": [],
   "source": [
    "df['flg'] = pred\n",
    "df = df[df.flg == 1]\n",
    "df.drop(columns=['flg'], inplace=True)"
   ]
  },
  {
   "cell_type": "markdown",
   "id": "6d85754f",
   "metadata": {},
   "source": [
    "### normalizing integer values"
   ]
  },
  {
   "cell_type": "markdown",
   "id": "f0442690",
   "metadata": {},
   "source": [
    "It is common practice in machine learning to normalize integer regressors so let's make 2 datasets: with it and without."
   ]
  },
  {
   "cell_type": "code",
   "execution_count": 80,
   "id": "f290a9da",
   "metadata": {},
   "outputs": [],
   "source": [
    "df.to_csv('df.csv', sep=';', index=False)"
   ]
  },
  {
   "cell_type": "code",
   "execution_count": 81,
   "id": "48f81809",
   "metadata": {},
   "outputs": [],
   "source": [
    "df_normalized = df.copy()"
   ]
  },
  {
   "cell_type": "code",
   "execution_count": 82,
   "id": "ee5f02d1",
   "metadata": {},
   "outputs": [],
   "source": [
    "scaler = StandardScaler()\n",
    "abc = scaler.fit_transform(df_normalized[['vote_count', 'runtime', 'popularity']].values)\n",
    "df_normalized['vote_count'] = abc.T[0]\n",
    "df_normalized['runtime'] = abc.T[1]\n",
    "df_normalized['popularity'] = abc.T[2]"
   ]
  },
  {
   "cell_type": "code",
   "execution_count": 83,
   "id": "7525bff9",
   "metadata": {},
   "outputs": [],
   "source": [
    "df_normalized.to_csv('df_normalized.csv', sep=';', index=False)"
   ]
  }
 ],
 "metadata": {
  "kernelspec": {
   "display_name": "Python 3 (ipykernel)",
   "language": "python",
   "name": "python3"
  },
  "language_info": {
   "codemirror_mode": {
    "name": "ipython",
    "version": 3
   },
   "file_extension": ".py",
   "mimetype": "text/x-python",
   "name": "python",
   "nbconvert_exporter": "python",
   "pygments_lexer": "ipython3",
   "version": "3.9.12"
  }
 },
 "nbformat": 4,
 "nbformat_minor": 5
}
